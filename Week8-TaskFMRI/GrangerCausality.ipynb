{
 "cells": [
  {
   "cell_type": "markdown",
   "metadata": {},
   "source": [
    "In this notebook we will show how to perform a Granger Causality analysis, and demonstrate how poorly it performs on our simulated data."
   ]
  },
  {
   "cell_type": "code",
   "execution_count": 1,
   "metadata": {
    "collapsed": false
   },
   "outputs": [
    {
     "name": "stdout",
     "output_type": "stream",
     "text": [
      "A\n",
      "[[-1.  0.  0.  0.  0.]\n",
      " [ 0. -1.  0.  0.  0.]\n",
      " [ 0.  1. -1.  0.  0.]\n",
      " [ 0.  1.  0. -1.  0.]\n",
      " [ 0.  0.  0.  0. -1.]]\n",
      "B\n",
      "[[0. 0. 0. 0. 0.]\n",
      " [0. 0. 0. 0. 0.]\n",
      " [1. 0. 0. 0. 0.]\n",
      " [0. 0. 0. 0. 0.]\n",
      " [1. 0. 0. 0. 0.]]\n",
      "C\n",
      "[[1.]\n",
      " [0.]\n",
      " [0.]\n",
      " [0.]\n",
      " [0.]]\n"
     ]
    }
   ],
   "source": [
    "import os,sys\n",
    "import numpy\n",
    "%matplotlib inline\n",
    "import matplotlib.pyplot as plt\n",
    "import statsmodels.tsa.stattools\n",
    "\n",
    "from brainnetworks.dcm_sim import sim_dcm_dataset\n",
    "\n",
    "from brainnetworks.graph_utils import show_graph_from_adjmtx,show_graph_from_pattern\n",
    "\n",
    "# first we simulate some data using our DCM model, with the same HRF across all regions\n",
    "\n",
    "_,data_conv,params=sim_dcm_dataset(verbose=True)\n",
    "\n",
    "A=params['A']\n",
    "B=params['B']\n",
    "C=params['C']\n",
    "\n",
    "data=data_conv[range(0,data_conv.shape[0],int(1./params['stepsize']))]\n"
   ]
  },
  {
   "cell_type": "markdown",
   "metadata": {},
   "source": [
    "Now compute Granger causality across all pairs of timeseries"
   ]
  },
  {
   "cell_type": "code",
   "execution_count": 2,
   "metadata": {
    "collapsed": false
   },
   "outputs": [
    {
     "name": "stdout",
     "output_type": "stream",
     "text": [
      "\n",
      "Granger Causality\n",
      "number of lags (no zero) 1\n",
      "ssr based F test:         F=6.0039  , p=0.0149  , df_denom=296, df_num=1\n",
      "ssr based chi2 test:   chi2=6.0647  , p=0.0138  , df=1\n",
      "likelihood ratio test: chi2=6.0041  , p=0.0143  , df=1\n",
      "parameter F test:         F=6.0039  , p=0.0149  , df_denom=296, df_num=1\n",
      "\n",
      "Granger Causality\n",
      "number of lags (no zero) 1\n",
      "ssr based F test:         F=3.6339  , p=0.0576  , df_denom=296, df_num=1\n",
      "ssr based chi2 test:   chi2=3.6708  , p=0.0554  , df=1\n",
      "likelihood ratio test: chi2=3.6484  , p=0.0561  , df=1\n",
      "parameter F test:         F=3.6339  , p=0.0576  , df_denom=296, df_num=1\n",
      "\n",
      "Granger Causality\n",
      "number of lags (no zero) 1\n",
      "ssr based F test:         F=9.7668  , p=0.0020  , df_denom=296, df_num=1\n",
      "ssr based chi2 test:   chi2=9.8658  , p=0.0017  , df=1\n",
      "likelihood ratio test: chi2=9.7065  , p=0.0018  , df=1\n",
      "parameter F test:         F=9.7668  , p=0.0020  , df_denom=296, df_num=1\n",
      "\n",
      "Granger Causality\n",
      "number of lags (no zero) 1\n",
      "ssr based F test:         F=6.5477  , p=0.0110  , df_denom=296, df_num=1\n",
      "ssr based chi2 test:   chi2=6.6141  , p=0.0101  , df=1\n",
      "likelihood ratio test: chi2=6.5420  , p=0.0105  , df=1\n",
      "parameter F test:         F=6.5477  , p=0.0110  , df_denom=296, df_num=1\n",
      "\n",
      "Granger Causality\n",
      "number of lags (no zero) 1\n",
      "ssr based F test:         F=0.2473  , p=0.6194  , df_denom=296, df_num=1\n",
      "ssr based chi2 test:   chi2=0.2498  , p=0.6172  , df=1\n",
      "likelihood ratio test: chi2=0.2497  , p=0.6173  , df=1\n",
      "parameter F test:         F=0.2473  , p=0.6194  , df_denom=296, df_num=1\n",
      "\n",
      "Granger Causality\n",
      "number of lags (no zero) 1\n",
      "ssr based F test:         F=0.3547  , p=0.5519  , df_denom=296, df_num=1\n",
      "ssr based chi2 test:   chi2=0.3583  , p=0.5495  , df=1\n",
      "likelihood ratio test: chi2=0.3581  , p=0.5496  , df=1\n",
      "parameter F test:         F=0.3547  , p=0.5519  , df_denom=296, df_num=1\n",
      "\n",
      "Granger Causality\n",
      "number of lags (no zero) 1\n",
      "ssr based F test:         F=1.3315  , p=0.2495  , df_denom=296, df_num=1\n",
      "ssr based chi2 test:   chi2=1.3450  , p=0.2461  , df=1\n",
      "likelihood ratio test: chi2=1.3420  , p=0.2467  , df=1\n",
      "parameter F test:         F=1.3315  , p=0.2495  , df_denom=296, df_num=1\n",
      "\n",
      "Granger Causality\n",
      "number of lags (no zero) 1\n",
      "ssr based F test:         F=0.3650  , p=0.5462  , df_denom=296, df_num=1\n",
      "ssr based chi2 test:   chi2=0.3687  , p=0.5437  , df=1\n",
      "likelihood ratio test: chi2=0.3684  , p=0.5439  , df=1\n",
      "parameter F test:         F=0.3650  , p=0.5462  , df_denom=296, df_num=1\n",
      "\n",
      "Granger Causality\n",
      "number of lags (no zero) 1\n",
      "ssr based F test:         F=0.1632  , p=0.6866  , df_denom=296, df_num=1\n",
      "ssr based chi2 test:   chi2=0.1648  , p=0.6848  , df=1\n",
      "likelihood ratio test: chi2=0.1648  , p=0.6848  , df=1\n",
      "parameter F test:         F=0.1632  , p=0.6866  , df_denom=296, df_num=1\n",
      "\n",
      "Granger Causality\n",
      "number of lags (no zero) 1\n",
      "ssr based F test:         F=1.8069  , p=0.1799  , df_denom=296, df_num=1\n",
      "ssr based chi2 test:   chi2=1.8252  , p=0.1767  , df=1\n",
      "likelihood ratio test: chi2=1.8196  , p=0.1774  , df=1\n",
      "parameter F test:         F=1.8069  , p=0.1799  , df_denom=296, df_num=1\n",
      "\n",
      "Granger Causality\n",
      "number of lags (no zero) 1\n",
      "ssr based F test:         F=4.3146  , p=0.0386  , df_denom=296, df_num=1\n",
      "ssr based chi2 test:   chi2=4.3583  , p=0.0368  , df=1\n",
      "likelihood ratio test: chi2=4.3269  , p=0.0375  , df=1\n",
      "parameter F test:         F=4.3146  , p=0.0386  , df_denom=296, df_num=1\n",
      "\n",
      "Granger Causality\n",
      "number of lags (no zero) 1\n",
      "ssr based F test:         F=2.7338  , p=0.0993  , df_denom=296, df_num=1\n",
      "ssr based chi2 test:   chi2=2.7616  , p=0.0966  , df=1\n",
      "likelihood ratio test: chi2=2.7489  , p=0.0973  , df=1\n",
      "parameter F test:         F=2.7338  , p=0.0993  , df_denom=296, df_num=1\n",
      "\n",
      "Granger Causality\n",
      "number of lags (no zero) 1\n",
      "ssr based F test:         F=0.3635  , p=0.5470  , df_denom=296, df_num=1\n",
      "ssr based chi2 test:   chi2=0.3671  , p=0.5446  , df=1\n",
      "likelihood ratio test: chi2=0.3669  , p=0.5447  , df=1\n",
      "parameter F test:         F=0.3635  , p=0.5470  , df_denom=296, df_num=1\n",
      "\n",
      "Granger Causality\n",
      "number of lags (no zero) 1\n",
      "ssr based F test:         F=0.1428  , p=0.7058  , df_denom=296, df_num=1\n",
      "ssr based chi2 test:   chi2=0.1442  , p=0.7041  , df=1\n",
      "likelihood ratio test: chi2=0.1442  , p=0.7042  , df=1\n",
      "parameter F test:         F=0.1428  , p=0.7058  , df_denom=296, df_num=1\n",
      "\n",
      "Granger Causality\n",
      "number of lags (no zero) 1\n",
      "ssr based F test:         F=0.1604  , p=0.6891  , df_denom=296, df_num=1\n",
      "ssr based chi2 test:   chi2=0.1621  , p=0.6873  , df=1\n",
      "likelihood ratio test: chi2=0.1620  , p=0.6873  , df=1\n",
      "parameter F test:         F=0.1604  , p=0.6891  , df_denom=296, df_num=1\n",
      "\n",
      "Granger Causality\n",
      "number of lags (no zero) 1\n",
      "ssr based F test:         F=1.3851  , p=0.2402  , df_denom=296, df_num=1\n",
      "ssr based chi2 test:   chi2=1.3992  , p=0.2369  , df=1\n",
      "likelihood ratio test: chi2=1.3959  , p=0.2374  , df=1\n",
      "parameter F test:         F=1.3851  , p=0.2402  , df_denom=296, df_num=1\n",
      "\n",
      "Granger Causality\n",
      "number of lags (no zero) 1\n",
      "ssr based F test:         F=2.2112  , p=0.1381  , df_denom=296, df_num=1\n",
      "ssr based chi2 test:   chi2=2.2336  , p=0.1350  , df=1\n",
      "likelihood ratio test: chi2=2.2253  , p=0.1358  , df=1\n",
      "parameter F test:         F=2.2112  , p=0.1381  , df_denom=296, df_num=1\n",
      "\n",
      "Granger Causality\n",
      "number of lags (no zero) 1\n",
      "ssr based F test:         F=0.5339  , p=0.4656  , df_denom=296, df_num=1\n",
      "ssr based chi2 test:   chi2=0.5393  , p=0.4627  , df=1\n",
      "likelihood ratio test: chi2=0.5388  , p=0.4629  , df=1\n",
      "parameter F test:         F=0.5339  , p=0.4656  , df_denom=296, df_num=1\n",
      "\n",
      "Granger Causality\n",
      "number of lags (no zero) 1\n",
      "ssr based F test:         F=0.0084  , p=0.9268  , df_denom=296, df_num=1\n",
      "ssr based chi2 test:   chi2=0.0085  , p=0.9264  , df=1\n",
      "likelihood ratio test: chi2=0.0085  , p=0.9264  , df=1\n",
      "parameter F test:         F=0.0084  , p=0.9268  , df_denom=296, df_num=1\n",
      "\n",
      "Granger Causality\n",
      "number of lags (no zero) 1\n",
      "ssr based F test:         F=0.2711  , p=0.6030  , df_denom=296, df_num=1\n",
      "ssr based chi2 test:   chi2=0.2739  , p=0.6007  , df=1\n",
      "likelihood ratio test: chi2=0.2738  , p=0.6008  , df=1\n",
      "parameter F test:         F=0.2711  , p=0.6030  , df_denom=296, df_num=1\n"
     ]
    }
   ],
   "source": [
    "gc=numpy.zeros(A.shape)\n",
    "for i in range(A.shape[0]):\n",
    "    for j in range(A.shape[0]):\n",
    "        if i==j:  # don't compute self-connectivity\n",
    "            continue\n",
    "        result=statsmodels.tsa.stattools.grangercausalitytests(data[:,[i,j]],1)\n",
    "        if result[1][0]['params_ftest'][1]<0.05:\n",
    "            gc[i,j]=1\n",
    "        "
   ]
  },
  {
   "cell_type": "code",
   "execution_count": 3,
   "metadata": {
    "collapsed": false
   },
   "outputs": [
    {
     "name": "stdout",
     "output_type": "stream",
     "text": [
      "[(1, 0), (3, 0), (3, 2), (4, 0)]\n",
      "Black: input\n",
      "Red: unmodulated\n"
     ]
    },
    {
     "data": {
      "image/png": "[encoded data removed]",
      "text/plain": [
       "<Figure size 432x288 with 1 Axes>"
      ]
     },
     "metadata": {
      "needs_background": "light"
     },
     "output_type": "display_data"
    },
    {
     "name": "stdout",
     "output_type": "stream",
     "text": [
      "[(1, 2), (1, 3), ('u', 0), (0, 2), (0, 4)]\n",
      "Black: input\n",
      "Red: unmodulated\n",
      "Blue: modulated\n"
     ]
    },
    {
     "data": {
      "image/png": "[encoded data removed]",
      "text/plain": [
       "<Figure size 432x288 with 1 Axes>"
      ]
     },
     "metadata": {
      "needs_background": "light"
     },
     "output_type": "display_data"
    },
    {
     "data": {
      "text/plain": [
       "<networkx.classes.digraph.DiGraph at 0x10a61fa90>"
      ]
     },
     "execution_count": 3,
     "metadata": {},
     "output_type": "execute_result"
    }
   ],
   "source": [
    "show_graph_from_adjmtx(gc,numpy.zeros(B.shape),numpy.zeros(C.shape),title='Granger')\n",
    "show_graph_from_adjmtx(A,B,C,title='True model')\n"
   ]
  },
  {
   "cell_type": "markdown",
   "metadata": {},
   "source": [
    "Exercise: Try running this notebook a few times, and watch how the GC results vary from run to run."
   ]
  },
  {
   "cell_type": "code",
   "execution_count": null,
   "metadata": {
    "collapsed": true
   },
   "outputs": [],
   "source": []
  }
 ],
 "metadata": {
  "anaconda-cloud": {},
  "kernelspec": {
   "display_name": "Python 3",
   "language": "python",
   "name": "python3"
  },
  "language_info": {
   "codemirror_mode": {
    "name": "ipython",
    "version": 3
   },
   "file_extension": ".py",
   "mimetype": "text/x-python",
   "name": "python",
   "nbconvert_exporter": "python",
   "pygments_lexer": "ipython3",
   "version": "3.6.6"
  }
 },
 "nbformat": 4,
 "nbformat_minor": 2
}
